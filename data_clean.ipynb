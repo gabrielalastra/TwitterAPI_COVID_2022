{
  "nbformat": 4,
  "nbformat_minor": 0,
  "metadata": {
    "colab": {
      "name": "data_clean.ipynb",
      "provenance": [],
      "mount_file_id": "1VYG0aRTZT-36veKAlxHceP93Djn3cCaN",
      "authorship_tag": "ABX9TyNvUWMHhY4Vcy65WfRXHy9+",
      "include_colab_link": true
    },
    "kernelspec": {
      "name": "python3",
      "display_name": "Python 3"
    },
    "language_info": {
      "name": "python"
    }
  },
  "cells": [
    {
      "cell_type": "markdown",
      "metadata": {
        "id": "view-in-github",
        "colab_type": "text"
      },
      "source": [
        "<a href=\"https://colab.research.google.com/github/gabrielalastra/TwitterAPI_COVID_2022/blob/main/data_clean.ipynb\" target=\"_parent\"><img src=\"https://colab.research.google.com/assets/colab-badge.svg\" alt=\"Open In Colab\"/></a>"
      ]
    },
    {
      "cell_type": "code",
      "execution_count": 114,
      "metadata": {
        "id": "YxXE75h4OAez"
      },
      "outputs": [],
      "source": [
        "import pandas as pd\n",
        "import datetime\n",
        "import numpy as np\n",
        "import matplotlib.pyplot as plt\n",
        "import json\n"
      ]
    },
    {
      "cell_type": "markdown",
      "source": [
        "<h3 align='right'>Cleaning the Data and Saving as CSV</h3> \n",
        "<hr color='cian'>"
      ],
      "metadata": {
        "id": "M6vViQkfhIoD"
      }
    },
    {
      "cell_type": "markdown",
      "source": [
        "<h5 align='right'>English</h5>"
      ],
      "metadata": {
        "id": "Wd9wjdDahZOb"
      }
    },
    {
      "cell_type": "code",
      "source": [
        "archiveEN = pd.read_json('/content/drive/MyDrive/diciEN_COVID_jan2022.json',\n",
        "                         orient='schema')\n",
        "archiveEN.head()"
      ],
      "metadata": {
        "colab": {
          "base_uri": "https://localhost:8080/",
          "height": 444
        },
        "id": "U4tnipyQRuE8",
        "outputId": "a7bc03d4-26b7-4b08-eb6c-914f5469a5c2"
      },
      "execution_count": 14,
      "outputs": [
        {
          "output_type": "execute_result",
          "data": {
            "text/html": [
              "\n",
              "  <div id=\"df-fda91a5e-f4f6-4a14-90c2-ceae5f642ce3\">\n",
              "    <div class=\"colab-df-container\">\n",
              "      <div>\n",
              "<style scoped>\n",
              "    .dataframe tbody tr th:only-of-type {\n",
              "        vertical-align: middle;\n",
              "    }\n",
              "\n",
              "    .dataframe tbody tr th {\n",
              "        vertical-align: top;\n",
              "    }\n",
              "\n",
              "    .dataframe thead th {\n",
              "        text-align: right;\n",
              "    }\n",
              "</style>\n",
              "<table border=\"1\" class=\"dataframe\">\n",
              "  <thead>\n",
              "    <tr style=\"text-align: right;\">\n",
              "      <th></th>\n",
              "      <th>created_at</th>\n",
              "      <th>text</th>\n",
              "      <th>user</th>\n",
              "      <th>source</th>\n",
              "      <th>favorite_count</th>\n",
              "      <th>retweet_count</th>\n",
              "    </tr>\n",
              "  </thead>\n",
              "  <tbody>\n",
              "    <tr>\n",
              "      <th>0</th>\n",
              "      <td>2022-01-27 10:49:20+00:00</td>\n",
              "      <td>Today restrictions are taken away and it’s rea...</td>\n",
              "      <td>{'id': 1423410674038890502, 'id_str': '1423410...</td>\n",
              "      <td>&lt;a href=\"http://twitter.com/download/iphone\" r...</td>\n",
              "      <td>0</td>\n",
              "      <td>0</td>\n",
              "    </tr>\n",
              "    <tr>\n",
              "      <th>1</th>\n",
              "      <td>2022-01-27 10:49:19+00:00</td>\n",
              "      <td>Denmark to lift Covid curbs in return to 'life...</td>\n",
              "      <td>{'id': 19310250, 'id_str': '19310250', 'name':...</td>\n",
              "      <td>&lt;a href=\"https://mobile.twitter.com\" rel=\"nofo...</td>\n",
              "      <td>0</td>\n",
              "      <td>0</td>\n",
              "    </tr>\n",
              "    <tr>\n",
              "      <th>2</th>\n",
              "      <td>2022-01-27 10:49:18+00:00</td>\n",
              "      <td>Letter from the Antipodes: AC40 first look.. S...</td>\n",
              "      <td>{'id': 58906640, 'id_str': '58906640', 'name':...</td>\n",
              "      <td>&lt;a href=\"https://www.sail-world.com/\" rel=\"nof...</td>\n",
              "      <td>0</td>\n",
              "      <td>0</td>\n",
              "    </tr>\n",
              "    <tr>\n",
              "      <th>3</th>\n",
              "      <td>2022-01-27 10:49:18+00:00</td>\n",
              "      <td>@fortyfive09ro Covid + 🙌</td>\n",
              "      <td>{'id': 1361595853492822020, 'id_str': '1361595...</td>\n",
              "      <td>&lt;a href=\"http://twitter.com/download/android\" ...</td>\n",
              "      <td>0</td>\n",
              "      <td>0</td>\n",
              "    </tr>\n",
              "    <tr>\n",
              "      <th>4</th>\n",
              "      <td>2022-01-27 10:49:17+00:00</td>\n",
              "      <td>@Craig_A_Spencer Why won‘t more doctors do ear...</td>\n",
              "      <td>{'id': 1206180536, 'id_str': '1206180536', 'na...</td>\n",
              "      <td>&lt;a href=\"http://twitter.com/download/iphone\" r...</td>\n",
              "      <td>0</td>\n",
              "      <td>0</td>\n",
              "    </tr>\n",
              "  </tbody>\n",
              "</table>\n",
              "</div>\n",
              "      <button class=\"colab-df-convert\" onclick=\"convertToInteractive('df-fda91a5e-f4f6-4a14-90c2-ceae5f642ce3')\"\n",
              "              title=\"Convert this dataframe to an interactive table.\"\n",
              "              style=\"display:none;\">\n",
              "        \n",
              "  <svg xmlns=\"http://www.w3.org/2000/svg\" height=\"24px\"viewBox=\"0 0 24 24\"\n",
              "       width=\"24px\">\n",
              "    <path d=\"M0 0h24v24H0V0z\" fill=\"none\"/>\n",
              "    <path d=\"M18.56 5.44l.94 2.06.94-2.06 2.06-.94-2.06-.94-.94-2.06-.94 2.06-2.06.94zm-11 1L8.5 8.5l.94-2.06 2.06-.94-2.06-.94L8.5 2.5l-.94 2.06-2.06.94zm10 10l.94 2.06.94-2.06 2.06-.94-2.06-.94-.94-2.06-.94 2.06-2.06.94z\"/><path d=\"M17.41 7.96l-1.37-1.37c-.4-.4-.92-.59-1.43-.59-.52 0-1.04.2-1.43.59L10.3 9.45l-7.72 7.72c-.78.78-.78 2.05 0 2.83L4 21.41c.39.39.9.59 1.41.59.51 0 1.02-.2 1.41-.59l7.78-7.78 2.81-2.81c.8-.78.8-2.07 0-2.86zM5.41 20L4 18.59l7.72-7.72 1.47 1.35L5.41 20z\"/>\n",
              "  </svg>\n",
              "      </button>\n",
              "      \n",
              "  <style>\n",
              "    .colab-df-container {\n",
              "      display:flex;\n",
              "      flex-wrap:wrap;\n",
              "      gap: 12px;\n",
              "    }\n",
              "\n",
              "    .colab-df-convert {\n",
              "      background-color: #E8F0FE;\n",
              "      border: none;\n",
              "      border-radius: 50%;\n",
              "      cursor: pointer;\n",
              "      display: none;\n",
              "      fill: #1967D2;\n",
              "      height: 32px;\n",
              "      padding: 0 0 0 0;\n",
              "      width: 32px;\n",
              "    }\n",
              "\n",
              "    .colab-df-convert:hover {\n",
              "      background-color: #E2EBFA;\n",
              "      box-shadow: 0px 1px 2px rgba(60, 64, 67, 0.3), 0px 1px 3px 1px rgba(60, 64, 67, 0.15);\n",
              "      fill: #174EA6;\n",
              "    }\n",
              "\n",
              "    [theme=dark] .colab-df-convert {\n",
              "      background-color: #3B4455;\n",
              "      fill: #D2E3FC;\n",
              "    }\n",
              "\n",
              "    [theme=dark] .colab-df-convert:hover {\n",
              "      background-color: #434B5C;\n",
              "      box-shadow: 0px 1px 3px 1px rgba(0, 0, 0, 0.15);\n",
              "      filter: drop-shadow(0px 1px 2px rgba(0, 0, 0, 0.3));\n",
              "      fill: #FFFFFF;\n",
              "    }\n",
              "  </style>\n",
              "\n",
              "      <script>\n",
              "        const buttonEl =\n",
              "          document.querySelector('#df-fda91a5e-f4f6-4a14-90c2-ceae5f642ce3 button.colab-df-convert');\n",
              "        buttonEl.style.display =\n",
              "          google.colab.kernel.accessAllowed ? 'block' : 'none';\n",
              "\n",
              "        async function convertToInteractive(key) {\n",
              "          const element = document.querySelector('#df-fda91a5e-f4f6-4a14-90c2-ceae5f642ce3');\n",
              "          const dataTable =\n",
              "            await google.colab.kernel.invokeFunction('convertToInteractive',\n",
              "                                                     [key], {});\n",
              "          if (!dataTable) return;\n",
              "\n",
              "          const docLinkHtml = 'Like what you see? Visit the ' +\n",
              "            '<a target=\"_blank\" href=https://colab.research.google.com/notebooks/data_table.ipynb>data table notebook</a>'\n",
              "            + ' to learn more about interactive tables.';\n",
              "          element.innerHTML = '';\n",
              "          dataTable['output_type'] = 'display_data';\n",
              "          await google.colab.output.renderOutput(dataTable, element);\n",
              "          const docLink = document.createElement('div');\n",
              "          docLink.innerHTML = docLinkHtml;\n",
              "          element.appendChild(docLink);\n",
              "        }\n",
              "      </script>\n",
              "    </div>\n",
              "  </div>\n",
              "  "
            ],
            "text/plain": [
              "                 created_at  ... retweet_count\n",
              "0 2022-01-27 10:49:20+00:00  ...             0\n",
              "1 2022-01-27 10:49:19+00:00  ...             0\n",
              "2 2022-01-27 10:49:18+00:00  ...             0\n",
              "3 2022-01-27 10:49:18+00:00  ...             0\n",
              "4 2022-01-27 10:49:17+00:00  ...             0\n",
              "\n",
              "[5 rows x 6 columns]"
            ]
          },
          "metadata": {},
          "execution_count": 14
        }
      ]
    },
    {
      "cell_type": "code",
      "source": [
        "archiveEN.info()"
      ],
      "metadata": {
        "colab": {
          "base_uri": "https://localhost:8080/"
        },
        "id": "W1Imr-biR66z",
        "outputId": "e40ac2f0-7c63-495a-c608-332c030691a2"
      },
      "execution_count": 15,
      "outputs": [
        {
          "output_type": "stream",
          "name": "stdout",
          "text": [
            "<class 'pandas.core.frame.DataFrame'>\n",
            "RangeIndex: 300 entries, 0 to 299\n",
            "Data columns (total 6 columns):\n",
            " #   Column          Non-Null Count  Dtype              \n",
            "---  ------          --------------  -----              \n",
            " 0   created_at      300 non-null    datetime64[ns, UTC]\n",
            " 1   text            300 non-null    object             \n",
            " 2   user            300 non-null    object             \n",
            " 3   source          300 non-null    object             \n",
            " 4   favorite_count  300 non-null    int64              \n",
            " 5   retweet_count   300 non-null    int64              \n",
            "dtypes: datetime64[ns, UTC](1), int64(2), object(3)\n",
            "memory usage: 14.2+ KB\n"
          ]
        }
      ]
    },
    {
      "cell_type": "code",
      "source": [
        "#converting datetime\n",
        "archiveEN['created_at']=pd.to_datetime(archiveEN['created_at'],\n",
        "                                   infer_datetime_format=True)\n",
        "\n",
        "#columns of User section\n",
        "user = archiveEN['user'].apply(pd.Series)\n",
        "user2 = user['location']\n",
        "user3 = user['verified']\n",
        "user4 = user['screen_name']\n",
        "archiveEN = pd.concat([archiveEN, user2, user3, user4], axis=1)"
      ],
      "metadata": {
        "id": "Ad--iNyhR98P"
      },
      "execution_count": 24,
      "outputs": []
    },
    {
      "cell_type": "code",
      "source": [
        "archiveEN.info()"
      ],
      "metadata": {
        "colab": {
          "base_uri": "https://localhost:8080/"
        },
        "id": "1WjuQznLSEOU",
        "outputId": "90dde272-d4c3-41a9-8a08-17943ecd5cbe"
      },
      "execution_count": 25,
      "outputs": [
        {
          "output_type": "stream",
          "name": "stdout",
          "text": [
            "<class 'pandas.core.frame.DataFrame'>\n",
            "RangeIndex: 300 entries, 0 to 299\n",
            "Data columns (total 9 columns):\n",
            " #   Column          Non-Null Count  Dtype              \n",
            "---  ------          --------------  -----              \n",
            " 0   created_at      300 non-null    datetime64[ns, UTC]\n",
            " 1   text            300 non-null    object             \n",
            " 2   user            300 non-null    object             \n",
            " 3   source          300 non-null    object             \n",
            " 4   favorite_count  300 non-null    int64              \n",
            " 5   retweet_count   300 non-null    int64              \n",
            " 6   location        300 non-null    object             \n",
            " 7   verified        300 non-null    bool               \n",
            " 8   screen_name     300 non-null    object             \n",
            "dtypes: bool(1), datetime64[ns, UTC](1), int64(2), object(5)\n",
            "memory usage: 19.2+ KB\n"
          ]
        }
      ]
    },
    {
      "cell_type": "code",
      "source": [
        "#there is a missign value?\n",
        "print(archiveEN.isnull().value_counts())\n",
        "print('\\n')\n",
        "print(archiveEN.isna().value_counts())"
      ],
      "metadata": {
        "colab": {
          "base_uri": "https://localhost:8080/"
        },
        "id": "ms0aOXhGSG4H",
        "outputId": "b0eb15a0-15b7-4deb-d92f-118cc5564719"
      },
      "execution_count": 20,
      "outputs": [
        {
          "output_type": "stream",
          "name": "stdout",
          "text": [
            "created_at  text   user   source  favorite_count  retweet_count\n",
            "False       False  False  False   False           False            300\n",
            "dtype: int64\n",
            "\n",
            "\n",
            "created_at  text   user   source  favorite_count  retweet_count\n",
            "False       False  False  False   False           False            300\n",
            "dtype: int64\n"
          ]
        }
      ]
    },
    {
      "cell_type": "code",
      "source": [
        "archiveEN['source'].value_counts()"
      ],
      "metadata": {
        "colab": {
          "base_uri": "https://localhost:8080/"
        },
        "id": "Tx8NY18PS492",
        "outputId": "70f07b65-2c95-4bfd-d342-65eaa4e5719d"
      },
      "execution_count": 28,
      "outputs": [
        {
          "output_type": "execute_result",
          "data": {
            "text/plain": [
              "<a href=\"http://twitter.com/download/android\" rel=\"nofollow\">Twitter for Android</a>    97\n",
              "<a href=\"https://mobile.twitter.com\" rel=\"nofollow\">Twitter Web App</a>                 91\n",
              "<a href=\"http://twitter.com/download/iphone\" rel=\"nofollow\">Twitter for iPhone</a>      76\n",
              "<a href=\"http://twitter.com/#!/download/ipad\" rel=\"nofollow\">Twitter for iPad</a>       11\n",
              "<a href=\"https://dlvrit.com/\" rel=\"nofollow\">dlvr.it</a>                                 4\n",
              "<a href=\"http://publicize.wp.com/\" rel=\"nofollow\">WordPress.com</a>                      3\n",
              "<a href=\"https://about.twitter.com/products/tweetdeck\" rel=\"nofollow\">TweetDeck</a>      2\n",
              "<a href=\"https://buffer.com\" rel=\"nofollow\">Buffer</a>                                   2\n",
              "<a href=\"http://www.powerapps.com\" rel=\"nofollow\">Microsoft Power Platform</a>           1\n",
              "<a href=\"https://app.agorapulse.com\" rel=\"nofollow\">Agorapulse app</a>                   1\n",
              "<a href=\"http://www.suttersmillcapital.com\" rel=\"nofollow\">smcapplication</a>            1\n",
              "<a href=\"https://www.givepulse.com\" rel=\"nofollow\">GivePulseEvents</a>                   1\n",
              "<a href=\"https://www.diolch.wales\" rel=\"nofollow\">www.diolch.wales</a>                   1\n",
              "<a href=\"https://twitter.com/RATStockAU\" rel=\"nofollow\">covidalertau</a>                 1\n",
              "<a href=\"https://www.hootsuite.com\" rel=\"nofollow\">Hootsuite Inc.</a>                    1\n",
              "<a href=\"http://postify.ru\" rel=\"nofollow\">Postify1</a>                                  1\n",
              "<a href=\"http://crowdcontrolhq.com/\" rel=\"nofollow\">CrowdControlHQ</a>                   1\n",
              "<a href=\"https://www.echobox.com\" rel=\"nofollow\">Echobox</a>                             1\n",
              "<a href=\"https://curlytales.com\" rel=\"nofollow\">CT_Tweet</a>                             1\n",
              "<a href=\"https://www.sail-world.com/\" rel=\"nofollow\">SWautotweet</a>                     1\n",
              "<a href=\"http://tapbots.com/tweetbot\" rel=\"nofollow\">Tweetbot for iΟS</a>                1\n",
              "<a href=\"https://marketscafe.com\" rel=\"nofollow\">MarketsCafe</a>                         1\n",
              "Name: source, dtype: int64"
            ]
          },
          "metadata": {},
          "execution_count": 28
        }
      ]
    },
    {
      "cell_type": "code",
      "source": [
        "archiveEN['source'] = archiveEN['source'].astype('string')"
      ],
      "metadata": {
        "id": "3zGzD5JNVMft"
      },
      "execution_count": 36,
      "outputs": []
    },
    {
      "cell_type": "code",
      "source": [
        "#Important to specify \n",
        "archiveEN['source'] = archiveEN['source'].replace({\n",
        "    '<a href=\"http://twitter.com/download/android\" rel=\"nofollow\">Twitter for Android</a>' : 'Android',\n",
        "    '<a href=\"http://twitter.com/download/iphone\" rel=\"nofollow\">Twitter for iPhone</a>' : 'iPhone',\n",
        "    '<a href=\"http://twittbot.net/\" rel=\"nofollow\">twittbot.net</a>' : 'Twittbot',\n",
        "    '<a href=\"https://mobile.twitter.com\" rel=\"nofollow\">Twitter Web App</a>' : 'Tw Web AP',\n",
        "    '<a href=\"https://about.twitter.com/products/tweetdeck\" rel=\"nofollow\">TweetDeck</a>' : 'TweetDeck',\n",
        "    '<a href=\"http://twitter.com/#!/download/ipad\" rel=\"nofollow\">Twitter for iPad</a>' : 'iPad',\n",
        "    '<a href=\"https://twitter.com/RATStockAU\" rel=\"nofollow\">covidalertau</a>' : 'COVID alerta AU'\n",
        "})"
      ],
      "metadata": {
        "id": "4jRqn4G0Tg_L"
      },
      "execution_count": 32,
      "outputs": []
    },
    {
      "cell_type": "code",
      "source": [
        "#Generalize \n",
        "archiveEN['source'] = archiveEN['source'].replace({\n",
        "    '<a href=\"https://dlvrit.com/\" rel=\"nofollow\">dlvr.it</a>' : 'website',\n",
        "    '<a href=\"http://publicize.wp.com/\" rel=\"nofollow\">WordPress.com</a>' : 'website',\n",
        "    '<a href=\"https://buffer.com\" rel=\"nofollow\">Buffer</a>' : 'website',\n",
        "    '<a href=\"https://dlvrit.com/\" rel=\"nofollow\">dlvr.it</a>' : 'website',\n",
        "    '<a href=\"http://publicize.wp.com/\" rel=\"nofollow\">WordPress.com</a>' : 'website',\n",
        "    '<a href=\"https://buffer.com\" rel=\"nofollow\">Buffer</a>' : 'website',\n",
        "    '<a href=\"https://www.sail-world.com/\" rel=\"nofollow\">SWautotweet</a>' : 'website',\n",
        "    '<a href=\"https://curlytales.com\" rel=\"nofollow\">CT_Tweet</a>' : 'website',\n",
        "    '<a href=\"https://www.echobox.com\" rel=\"nofollow\">Echobox</a>' : 'website',\n",
        "    '<a href=\"http://crowdcontrolhq.com/\" rel=\"nofollow\">CrowdControlHQ</a>' : 'website',\n",
        "    '<a href=\"https://www.hootsuite.com\" rel=\"nofollow\">Hootsuite Inc.</a>' : 'website',\n",
        "    '<a href=\"http://postify.ru\" rel=\"nofollow\">Postify1</a>' : 'website',\n",
        "    '<a href=\"https://www.givepulse.com\" rel=\"nofollow\">GivePulseEvents</a>' : 'website',\n",
        "    '<a href=\"http://www.suttersmillcapital.com\" rel=\"nofollow\">smcapplication</a>' : 'website',\n",
        "    '<a href=\"http://www.powerapps.com\" rel=\"nofollow\">Microsoft Power Platform</a>' : 'website',\n",
        "    '<a href=\"https://app.agorapulse.com\" rel=\"nofollow\">Agorapulse app</a>' : 'website',\n",
        "    '<a href=\"https://marketscafe.com\" rel=\"nofollow\">MarketsCafe</a>' : 'website',\n",
        "    '<a href=\"https://www.diolch.wales\" rel=\"nofollow\">www.diolch.wales</a>' : 'website',\n",
        "    '<a href=\"http://tapbots.com/tweetbot\" rel=\"nofollow\">Tweetbot for iΟS</a>' : 'website'\n",
        "})"
      ],
      "metadata": {
        "id": "sTvSL7fnVk8g"
      },
      "execution_count": 37,
      "outputs": []
    },
    {
      "cell_type": "code",
      "source": [
        "archiveEN['source'].value_counts().plot(kind='barh')"
      ],
      "metadata": {
        "colab": {
          "base_uri": "https://localhost:8080/",
          "height": 282
        },
        "id": "BDZ1wTYUTwLW",
        "outputId": "90a08b03-aca6-4ad8-d771-2bf52ea54ae6"
      },
      "execution_count": 96,
      "outputs": [
        {
          "output_type": "execute_result",
          "data": {
            "text/plain": [
              "<matplotlib.axes._subplots.AxesSubplot at 0x7f95c69e7f50>"
            ]
          },
          "metadata": {},
          "execution_count": 96
        },
        {
          "output_type": "display_data",
          "data": {
            "image/png": "[encoded data removed]",
            "text/plain": [
              "<Figure size 432x288 with 1 Axes>"
            ]
          },
          "metadata": {
            "needs_background": "light"
          }
        }
      ]
    },
    {
      "cell_type": "code",
      "source": [
        "archiveEN['verified'] = archiveEN['verified'].astype('string')"
      ],
      "metadata": {
        "id": "jQRsh7CpXYB2"
      },
      "execution_count": 39,
      "outputs": []
    },
    {
      "cell_type": "code",
      "source": [
        "archiveEN['verified'] = archiveEN['verified'].replace({\n",
        "    'True' : 'Yes',\n",
        "    'False' : 'No'\n",
        "})"
      ],
      "metadata": {
        "id": "yRwdYoHmXfF2"
      },
      "execution_count": 42,
      "outputs": []
    },
    {
      "cell_type": "code",
      "source": [
        "archiveEN['verified'].value_counts().plot(kind='pie')"
      ],
      "metadata": {
        "colab": {
          "base_uri": "https://localhost:8080/",
          "height": 265
        },
        "id": "Vjj_hknpXwXe",
        "outputId": "ba8d7bfa-e11d-483d-febf-0bacb90944d0"
      },
      "execution_count": 95,
      "outputs": [
        {
          "output_type": "execute_result",
          "data": {
            "text/plain": [
              "<matplotlib.axes._subplots.AxesSubplot at 0x7f95c6894f10>"
            ]
          },
          "metadata": {},
          "execution_count": 95
        },
        {
          "output_type": "display_data",
          "data": {
            "image/png": "[encoded data removed]",
            "text/plain": [
              "<Figure size 432x288 with 1 Axes>"
            ]
          },
          "metadata": {}
        }
      ]
    },
    {
      "cell_type": "code",
      "source": [
        "archiveEN.to_csv('/content/drive/MyDrive/Colab Notebooks/archiveEN_clean_jan2022.csv')"
      ],
      "metadata": {
        "id": "i7PBRNdUe2S5"
      },
      "execution_count": 122,
      "outputs": []
    },
    {
      "cell_type": "markdown",
      "source": [
        "<hr color='blue'>\n",
        "<h5 align='right'>Deutsch</h5>"
      ],
      "metadata": {
        "id": "Xy50M48mRn8P"
      }
    },
    {
      "cell_type": "code",
      "source": [
        "archiveDE = pd.read_json('/content/drive/MyDrive/diciDE_COVID_jan2022.json', orient='schema')\n",
        "archiveDE"
      ],
      "metadata": {
        "colab": {
          "base_uri": "https://localhost:8080/",
          "height": 852
        },
        "id": "cf9N3VDKPIU7",
        "outputId": "53ea60b9-5698-48c2-ff92-b758479cfcc6"
      },
      "execution_count": 85,
      "outputs": [
        {
          "output_type": "execute_result",
          "data": {
            "text/html": [
              "\n",
              "  <div id=\"df-77ece3ba-748c-440c-b657-0fe030a9c1bc\">\n",
              "    <div class=\"colab-df-container\">\n",
              "      <div>\n",
              "<style scoped>\n",
              "    .dataframe tbody tr th:only-of-type {\n",
              "        vertical-align: middle;\n",
              "    }\n",
              "\n",
              "    .dataframe tbody tr th {\n",
              "        vertical-align: top;\n",
              "    }\n",
              "\n",
              "    .dataframe thead th {\n",
              "        text-align: right;\n",
              "    }\n",
              "</style>\n",
              "<table border=\"1\" class=\"dataframe\">\n",
              "  <thead>\n",
              "    <tr style=\"text-align: right;\">\n",
              "      <th></th>\n",
              "      <th>created_at</th>\n",
              "      <th>text</th>\n",
              "      <th>user</th>\n",
              "      <th>source</th>\n",
              "      <th>favorite_count</th>\n",
              "      <th>retweet_count</th>\n",
              "    </tr>\n",
              "  </thead>\n",
              "  <tbody>\n",
              "    <tr>\n",
              "      <th>0</th>\n",
              "      <td>2022-01-27 11:00:45+00:00</td>\n",
              "      <td>BTW: Joe Rogan ist übrigens nicht nur wegen CO...</td>\n",
              "      <td>{'id': 83573370, 'id_str': '83573370', 'name':...</td>\n",
              "      <td>&lt;a href=\"https://mobile.twitter.com\" rel=\"nofo...</td>\n",
              "      <td>0</td>\n",
              "      <td>0</td>\n",
              "    </tr>\n",
              "    <tr>\n",
              "      <th>1</th>\n",
              "      <td>2022-01-27 11:00:35+00:00</td>\n",
              "      <td>Welttag der Bildung: Covid-19-Pandemie verschä...</td>\n",
              "      <td>{'id': 52403524, 'id_str': '52403524', 'name':...</td>\n",
              "      <td>&lt;a href=\"http://www.jugendhilfeportal.de\" rel=...</td>\n",
              "      <td>0</td>\n",
              "      <td>0</td>\n",
              "    </tr>\n",
              "    <tr>\n",
              "      <th>2</th>\n",
              "      <td>2022-01-27 11:00:27+00:00</td>\n",
              "      <td>Experten, darunter \\nRobert Garry &amp;amp; Mike F...</td>\n",
              "      <td>{'id': 1438185116136878083, 'id_str': '1438185...</td>\n",
              "      <td>&lt;a href=\"https://mobile.twitter.com\" rel=\"nofo...</td>\n",
              "      <td>0</td>\n",
              "      <td>0</td>\n",
              "    </tr>\n",
              "    <tr>\n",
              "      <th>3</th>\n",
              "      <td>2022-01-27 11:00:17+00:00</td>\n",
              "      <td>@u1829387190039 @SWagenknecht verpflichtend we...</td>\n",
              "      <td>{'id': 1338961332125757440, 'id_str': '1338961...</td>\n",
              "      <td>&lt;a href=\"https://mobile.twitter.com\" rel=\"nofo...</td>\n",
              "      <td>0</td>\n",
              "      <td>0</td>\n",
              "    </tr>\n",
              "    <tr>\n",
              "      <th>4</th>\n",
              "      <td>2022-01-27 11:00:16+00:00</td>\n",
              "      <td>@DBOnTweets @Ricarda_Lang Mit falschen Zahlen ...</td>\n",
              "      <td>{'id': 92365834, 'id_str': '92365834', 'name':...</td>\n",
              "      <td>&lt;a href=\"http://twitter.com/download/iphone\" r...</td>\n",
              "      <td>0</td>\n",
              "      <td>0</td>\n",
              "    </tr>\n",
              "    <tr>\n",
              "      <th>...</th>\n",
              "      <td>...</td>\n",
              "      <td>...</td>\n",
              "      <td>...</td>\n",
              "      <td>...</td>\n",
              "      <td>...</td>\n",
              "      <td>...</td>\n",
              "    </tr>\n",
              "    <tr>\n",
              "      <th>295</th>\n",
              "      <td>2022-01-27 10:11:19+00:00</td>\n",
              "      <td>Es ist erstaunlich, dass nach 2 Jahren #Corona...</td>\n",
              "      <td>{'id': 2214821131, 'id_str': '2214821131', 'na...</td>\n",
              "      <td>&lt;a href=\"http://twitter.com/download/iphone\" r...</td>\n",
              "      <td>3</td>\n",
              "      <td>0</td>\n",
              "    </tr>\n",
              "    <tr>\n",
              "      <th>296</th>\n",
              "      <td>2022-01-27 10:11:15+00:00</td>\n",
              "      <td>@RonaiChaker Die Erkrankung kann das aber. Ich...</td>\n",
              "      <td>{'id': 4481375357, 'id_str': '4481375357', 'na...</td>\n",
              "      <td>&lt;a href=\"https://mobile.twitter.com\" rel=\"nofo...</td>\n",
              "      <td>0</td>\n",
              "      <td>0</td>\n",
              "    </tr>\n",
              "    <tr>\n",
              "      <th>297</th>\n",
              "      <td>2022-01-27 10:11:04+00:00</td>\n",
              "      <td>@SWagenknecht Danke, Frau Wagenknecht.\\n\\nhttp...</td>\n",
              "      <td>{'id': 1390548591501004801, 'id_str': '1390548...</td>\n",
              "      <td>&lt;a href=\"http://twitter.com/download/iphone\" r...</td>\n",
              "      <td>0</td>\n",
              "      <td>0</td>\n",
              "    </tr>\n",
              "    <tr>\n",
              "      <th>298</th>\n",
              "      <td>2022-01-27 10:11:00+00:00</td>\n",
              "      <td>@draqonlt @Tim50023602 @n1trokbm @MontanaBlack...</td>\n",
              "      <td>{'id': 2764814483, 'id_str': '2764814483', 'na...</td>\n",
              "      <td>&lt;a href=\"http://twitter.com/download/iphone\" r...</td>\n",
              "      <td>0</td>\n",
              "      <td>0</td>\n",
              "    </tr>\n",
              "    <tr>\n",
              "      <th>299</th>\n",
              "      <td>2022-01-27 10:11:00+00:00</td>\n",
              "      <td>bei den covid medikamenten gehts darum ihr hab...</td>\n",
              "      <td>{'id': 806134648338255872, 'id_str': '80613464...</td>\n",
              "      <td>&lt;a href=\"https://mobile.twitter.com\" rel=\"nofo...</td>\n",
              "      <td>1</td>\n",
              "      <td>0</td>\n",
              "    </tr>\n",
              "  </tbody>\n",
              "</table>\n",
              "<p>300 rows × 6 columns</p>\n",
              "</div>\n",
              "      <button class=\"colab-df-convert\" onclick=\"convertToInteractive('df-77ece3ba-748c-440c-b657-0fe030a9c1bc')\"\n",
              "              title=\"Convert this dataframe to an interactive table.\"\n",
              "              style=\"display:none;\">\n",
              "        \n",
              "  <svg xmlns=\"http://www.w3.org/2000/svg\" height=\"24px\"viewBox=\"0 0 24 24\"\n",
              "       width=\"24px\">\n",
              "    <path d=\"M0 0h24v24H0V0z\" fill=\"none\"/>\n",
              "    <path d=\"M18.56 5.44l.94 2.06.94-2.06 2.06-.94-2.06-.94-.94-2.06-.94 2.06-2.06.94zm-11 1L8.5 8.5l.94-2.06 2.06-.94-2.06-.94L8.5 2.5l-.94 2.06-2.06.94zm10 10l.94 2.06.94-2.06 2.06-.94-2.06-.94-.94-2.06-.94 2.06-2.06.94z\"/><path d=\"M17.41 7.96l-1.37-1.37c-.4-.4-.92-.59-1.43-.59-.52 0-1.04.2-1.43.59L10.3 9.45l-7.72 7.72c-.78.78-.78 2.05 0 2.83L4 21.41c.39.39.9.59 1.41.59.51 0 1.02-.2 1.41-.59l7.78-7.78 2.81-2.81c.8-.78.8-2.07 0-2.86zM5.41 20L4 18.59l7.72-7.72 1.47 1.35L5.41 20z\"/>\n",
              "  </svg>\n",
              "      </button>\n",
              "      \n",
              "  <style>\n",
              "    .colab-df-container {\n",
              "      display:flex;\n",
              "      flex-wrap:wrap;\n",
              "      gap: 12px;\n",
              "    }\n",
              "\n",
              "    .colab-df-convert {\n",
              "      background-color: #E8F0FE;\n",
              "      border: none;\n",
              "      border-radius: 50%;\n",
              "      cursor: pointer;\n",
              "      display: none;\n",
              "      fill: #1967D2;\n",
              "      height: 32px;\n",
              "      padding: 0 0 0 0;\n",
              "      width: 32px;\n",
              "    }\n",
              "\n",
              "    .colab-df-convert:hover {\n",
              "      background-color: #E2EBFA;\n",
              "      box-shadow: 0px 1px 2px rgba(60, 64, 67, 0.3), 0px 1px 3px 1px rgba(60, 64, 67, 0.15);\n",
              "      fill: #174EA6;\n",
              "    }\n",
              "\n",
              "    [theme=dark] .colab-df-convert {\n",
              "      background-color: #3B4455;\n",
              "      fill: #D2E3FC;\n",
              "    }\n",
              "\n",
              "    [theme=dark] .colab-df-convert:hover {\n",
              "      background-color: #434B5C;\n",
              "      box-shadow: 0px 1px 3px 1px rgba(0, 0, 0, 0.15);\n",
              "      filter: drop-shadow(0px 1px 2px rgba(0, 0, 0, 0.3));\n",
              "      fill: #FFFFFF;\n",
              "    }\n",
              "  </style>\n",
              "\n",
              "      <script>\n",
              "        const buttonEl =\n",
              "          document.querySelector('#df-77ece3ba-748c-440c-b657-0fe030a9c1bc button.colab-df-convert');\n",
              "        buttonEl.style.display =\n",
              "          google.colab.kernel.accessAllowed ? 'block' : 'none';\n",
              "\n",
              "        async function convertToInteractive(key) {\n",
              "          const element = document.querySelector('#df-77ece3ba-748c-440c-b657-0fe030a9c1bc');\n",
              "          const dataTable =\n",
              "            await google.colab.kernel.invokeFunction('convertToInteractive',\n",
              "                                                     [key], {});\n",
              "          if (!dataTable) return;\n",
              "\n",
              "          const docLinkHtml = 'Like what you see? Visit the ' +\n",
              "            '<a target=\"_blank\" href=https://colab.research.google.com/notebooks/data_table.ipynb>data table notebook</a>'\n",
              "            + ' to learn more about interactive tables.';\n",
              "          element.innerHTML = '';\n",
              "          dataTable['output_type'] = 'display_data';\n",
              "          await google.colab.output.renderOutput(dataTable, element);\n",
              "          const docLink = document.createElement('div');\n",
              "          docLink.innerHTML = docLinkHtml;\n",
              "          element.appendChild(docLink);\n",
              "        }\n",
              "      </script>\n",
              "    </div>\n",
              "  </div>\n",
              "  "
            ],
            "text/plain": [
              "                   created_at  ... retweet_count\n",
              "0   2022-01-27 11:00:45+00:00  ...             0\n",
              "1   2022-01-27 11:00:35+00:00  ...             0\n",
              "2   2022-01-27 11:00:27+00:00  ...             0\n",
              "3   2022-01-27 11:00:17+00:00  ...             0\n",
              "4   2022-01-27 11:00:16+00:00  ...             0\n",
              "..                        ...  ...           ...\n",
              "295 2022-01-27 10:11:19+00:00  ...             0\n",
              "296 2022-01-27 10:11:15+00:00  ...             0\n",
              "297 2022-01-27 10:11:04+00:00  ...             0\n",
              "298 2022-01-27 10:11:00+00:00  ...             0\n",
              "299 2022-01-27 10:11:00+00:00  ...             0\n",
              "\n",
              "[300 rows x 6 columns]"
            ]
          },
          "metadata": {},
          "execution_count": 85
        }
      ]
    },
    {
      "cell_type": "code",
      "source": [
        "archiveDE.info()"
      ],
      "metadata": {
        "colab": {
          "base_uri": "https://localhost:8080/"
        },
        "id": "kC05snojQVlh",
        "outputId": "2726b560-2a49-4ddf-81e7-fd54a3a63280"
      },
      "execution_count": 86,
      "outputs": [
        {
          "output_type": "stream",
          "name": "stdout",
          "text": [
            "<class 'pandas.core.frame.DataFrame'>\n",
            "RangeIndex: 300 entries, 0 to 299\n",
            "Data columns (total 6 columns):\n",
            " #   Column          Non-Null Count  Dtype              \n",
            "---  ------          --------------  -----              \n",
            " 0   created_at      300 non-null    datetime64[ns, UTC]\n",
            " 1   text            300 non-null    object             \n",
            " 2   user            300 non-null    object             \n",
            " 3   source          300 non-null    object             \n",
            " 4   favorite_count  300 non-null    int64              \n",
            " 5   retweet_count   300 non-null    int64              \n",
            "dtypes: datetime64[ns, UTC](1), int64(2), object(3)\n",
            "memory usage: 14.2+ KB\n"
          ]
        }
      ]
    },
    {
      "cell_type": "code",
      "source": [
        "#converting datetime\n",
        "archiveDE['created_at']=pd.to_datetime(archiveDE['created_at'],\n",
        "                                   infer_datetime_format=True)\n",
        "\n",
        "#columns of User section\n",
        "user = archiveDE['user'].apply(pd.Series)\n",
        "user2 = user['location']\n",
        "user3 = user['verified']\n",
        "user4 = user['screen_name']\n",
        "archiveDE = pd.concat([archiveDE, user2, user3, user4], axis=1)"
      ],
      "metadata": {
        "id": "BjevXWSnQGa9"
      },
      "execution_count": 87,
      "outputs": []
    },
    {
      "cell_type": "code",
      "source": [
        "archiveDE.info()"
      ],
      "metadata": {
        "colab": {
          "base_uri": "https://localhost:8080/"
        },
        "id": "VKd0z6_jQlxU",
        "outputId": "64d59970-9e80-4984-f2f4-7ba5508f7622"
      },
      "execution_count": 88,
      "outputs": [
        {
          "output_type": "stream",
          "name": "stdout",
          "text": [
            "<class 'pandas.core.frame.DataFrame'>\n",
            "RangeIndex: 300 entries, 0 to 299\n",
            "Data columns (total 9 columns):\n",
            " #   Column          Non-Null Count  Dtype              \n",
            "---  ------          --------------  -----              \n",
            " 0   created_at      300 non-null    datetime64[ns, UTC]\n",
            " 1   text            300 non-null    object             \n",
            " 2   user            300 non-null    object             \n",
            " 3   source          300 non-null    object             \n",
            " 4   favorite_count  300 non-null    int64              \n",
            " 5   retweet_count   300 non-null    int64              \n",
            " 6   location        300 non-null    object             \n",
            " 7   verified        300 non-null    bool               \n",
            " 8   screen_name     300 non-null    object             \n",
            "dtypes: bool(1), datetime64[ns, UTC](1), int64(2), object(5)\n",
            "memory usage: 19.2+ KB\n"
          ]
        }
      ]
    },
    {
      "cell_type": "code",
      "source": [
        "archiveDE.isnull().value_counts()"
      ],
      "metadata": {
        "colab": {
          "base_uri": "https://localhost:8080/"
        },
        "id": "3xWLIkF_QnLq",
        "outputId": "b298bf1f-435c-44df-c1ee-4933f4300a6d"
      },
      "execution_count": 72,
      "outputs": [
        {
          "output_type": "execute_result",
          "data": {
            "text/plain": [
              "created_at  text   user   source  favorite_count  retweet_count  location  verified  screen_name\n",
              "False       False  False  False   False           False          False     False     False          300\n",
              "dtype: int64"
            ]
          },
          "metadata": {},
          "execution_count": 72
        }
      ]
    },
    {
      "cell_type": "code",
      "source": [
        "archiveDE.isna().value_counts()"
      ],
      "metadata": {
        "colab": {
          "base_uri": "https://localhost:8080/"
        },
        "id": "K9Z64XkHQ8jr",
        "outputId": "71e1eb45-7767-4fa5-a79f-e87e01071555"
      },
      "execution_count": 73,
      "outputs": [
        {
          "output_type": "execute_result",
          "data": {
            "text/plain": [
              "created_at  text   user   source  favorite_count  retweet_count  location  verified  screen_name\n",
              "False       False  False  False   False           False          False     False     False          300\n",
              "dtype: int64"
            ]
          },
          "metadata": {},
          "execution_count": 73
        }
      ]
    },
    {
      "cell_type": "code",
      "source": [
        "archiveDE['verified'] = archiveDE['verified'].astype('string')"
      ],
      "metadata": {
        "id": "wnIY8LB0bxMW"
      },
      "execution_count": 90,
      "outputs": []
    },
    {
      "cell_type": "code",
      "source": [
        "archiveDE['verified'] = archiveDE['verified'].replace({\n",
        "    'True' : 'Yes',\n",
        "    'False' : 'No'\n",
        "})\n"
      ],
      "metadata": {
        "id": "jEYE03aaRBCX"
      },
      "execution_count": 91,
      "outputs": []
    },
    {
      "cell_type": "code",
      "source": [
        "archiveDE['verified'].value_counts().plot(kind='pie')"
      ],
      "metadata": {
        "colab": {
          "base_uri": "https://localhost:8080/",
          "height": 265
        },
        "id": "lJH0iogBa2Q0",
        "outputId": "dab30cbd-fdbe-4d3b-a5ec-f5e769c729b6"
      },
      "execution_count": 94,
      "outputs": [
        {
          "output_type": "execute_result",
          "data": {
            "text/plain": [
              "<matplotlib.axes._subplots.AxesSubplot at 0x7f95c6ad6c90>"
            ]
          },
          "metadata": {},
          "execution_count": 94
        },
        {
          "output_type": "display_data",
          "data": {
            "image/png": "[encoded data removed]",
            "text/plain": [
              "<Figure size 432x288 with 1 Axes>"
            ]
          },
          "metadata": {}
        }
      ]
    },
    {
      "cell_type": "code",
      "source": [
        "archiveDE['source'] = archiveDE['source'].astype('string')"
      ],
      "metadata": {
        "id": "v9ajYqzvc64V"
      },
      "execution_count": 98,
      "outputs": []
    },
    {
      "cell_type": "code",
      "source": [
        "#Important to specify \n",
        "archiveDE['source'] = archiveDE['source'].replace({\n",
        "    '<a href=\"http://twitter.com/download/android\" rel=\"nofollow\">Twitter for Android</a>' : 'Android',\n",
        "    '<a href=\"http://twitter.com/download/iphone\" rel=\"nofollow\">Twitter for iPhone</a>' : 'iPhone',\n",
        "    '<a href=\"http://twittbot.net/\" rel=\"nofollow\">twittbot.net</a>' : 'Twittbot',\n",
        "    '<a href=\"https://mobile.twitter.com\" rel=\"nofollow\">Twitter Web App</a>' : 'Tw Web AP',\n",
        "    '<a href=\"https://about.twitter.com/products/tweetdeck\" rel=\"nofollow\">TweetDeck</a>' : 'TweetDeck',\n",
        "    '<a href=\"http://twitter.com/#!/download/ipad\" rel=\"nofollow\">Twitter for iPad</a>' : 'iPad',\n",
        "    '<a href=\"http://itunes.apple.com/us/app/twitter/id409789998?mt=12\" rel=\"nofollow\">Twitter for Mac</a>' : 'iTunes'\n",
        "})"
      ],
      "metadata": {
        "id": "mMNccnn-ZNgV"
      },
      "execution_count": 109,
      "outputs": []
    },
    {
      "cell_type": "code",
      "source": [
        "#Generalize\n",
        "archiveDE['source'] = archiveDE['source'].replace({\n",
        "    '<a href=\"http://publicize.wp.com/\" rel=\"nofollow\">WordPress.com</a>' : 'website',\n",
        "    '<a href=\"http://lokalo.de\" rel=\"nofollow\">http://lokalo.de</a>' : 'website',\n",
        "    '<a href=\"http://www.chronicle.lu\" rel=\"nofollow\">Chronicle.lu v2</a>' : 'website',\n",
        "    '<a href=\"http://www.chronicle.lu\" rel=\"nofollow\">Chronicle.lu v2 corporate</a>' : 'website',\n",
        "    '<a href=\"http://thailandtip.info/\" rel=\"nofollow\">WP to Zwitscher2</a>' : 'website',\n",
        "    '<a href=\"http://www.hubspot.com/\" rel=\"nofollow\">HubSpot</a>' : 'website',\n",
        "    '<a href=\"https://dlvrit.com/\" rel=\"nofollow\">dlvr.it</a>' : 'website',\n",
        "    '<a href=\"https://www.echobox.com\" rel=\"nofollow\">Echobox</a>' : 'website',\n",
        "    '<a href=\"http://www.jugendhilfeportal.de\" rel=\"nofollow\">Jugendhilfeportal</a>' : 'website',\n",
        "    '<a href=\"https://app.cleverpush.com\" rel=\"nofollow\">CleverPush</a>' : 'website',\n",
        "    '<a href=\"http://www.diesachsen.de\" rel=\"nofollow\">DieSachsen</a>' : 'website',\n",
        "    '<a href=\"https://dashboard.heropost.io/\" rel=\"nofollow\">Heropost</a>'  : 'website',\n",
        "    '<a href=\"https://www.blog2social.com\" rel=\"nofollow\">Blog2Social APP</a>' : 'website',\n",
        "    '<a href=\"https://zapier.com/\" rel=\"nofollow\">Zapier.com</a>' : 'website',\n",
        "    '<a href=\"https://sproutsocial.com\" rel=\"nofollow\">Sprout Social</a>' : 'website'\n",
        "\n",
        "})"
      ],
      "metadata": {
        "id": "LLbGrfEqdN4P"
      },
      "execution_count": 105,
      "outputs": []
    },
    {
      "cell_type": "code",
      "source": [
        "archiveDE['source'].value_counts().plot(kind='barh')"
      ],
      "metadata": {
        "colab": {
          "base_uri": "https://localhost:8080/",
          "height": 282
        },
        "id": "d49HSNvzdEJ0",
        "outputId": "bc51b333-3fb9-4751-a524-c6d8699989e2"
      },
      "execution_count": 111,
      "outputs": [
        {
          "output_type": "execute_result",
          "data": {
            "text/plain": [
              "<matplotlib.axes._subplots.AxesSubplot at 0x7f95c691fb10>"
            ]
          },
          "metadata": {},
          "execution_count": 111
        },
        {
          "output_type": "display_data",
          "data": {
            "image/png": "[encoded data removed]",
            "text/plain": [
              "<Figure size 432x288 with 1 Axes>"
            ]
          },
          "metadata": {
            "needs_background": "light"
          }
        }
      ]
    },
    {
      "cell_type": "code",
      "source": [
        "archiveDE.to_csv('/content/drive/MyDrive/Colab Notebooks/archiveDE_clean_jan2022.csv')"
      ],
      "metadata": {
        "id": "2Ai2dMl0dHHJ"
      },
      "execution_count": 123,
      "outputs": []
    }
  ]
}