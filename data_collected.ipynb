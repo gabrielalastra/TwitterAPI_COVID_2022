{
  "nbformat": 4,
  "nbformat_minor": 0,
  "metadata": {
    "colab": {
      "name": "data_collected.ipynb",
      "provenance": [],
      "collapsed_sections": [],
      "authorship_tag": "ABX9TyOGFKNBY2gCtiCSeh0L3vxc",
      "include_colab_link": true
    },
    "kernelspec": {
      "name": "python3",
      "display_name": "Python 3"
    },
    "language_info": {
      "name": "python"
    }
  },
  "cells": [
    {
      "cell_type": "markdown",
      "metadata": {
        "id": "view-in-github",
        "colab_type": "text"
      },
      "source": [
        "<a href=\"https://colab.research.google.com/github/gabrielalastra/TwitterAPI_COVID_2022/blob/main/data_collected.ipynb\" target=\"_parent\"><img src=\"https://colab.research.google.com/assets/colab-badge.svg\" alt=\"Open In Colab\"/></a>"
      ]
    },
    {
      "cell_type": "code",
      "execution_count": 1,
      "metadata": {
        "id": "kqBhdg2pErcU"
      },
      "outputs": [],
      "source": [
        "import tweepy as tw\n",
        "import pandas as pd\n",
        "import json"
      ]
    },
    {
      "cell_type": "markdown",
      "source": [
        "<h3 align='right'>Twitter API Keys and Authorization</h3>\n",
        "<hr color='cian'>"
      ],
      "metadata": {
        "id": "Qtz0CVZ4E_1G"
      }
    },
    {
      "cell_type": "code",
      "source": [
        "twKey = 'xxxx'\n",
        "twKeysecret = 'xxxxx'\n",
        "twbearertoken = 'xxxx'\n",
        "twtoken = 'xxx'\n",
        "twtokensecret = 'xxxxx'"
      ],
      "metadata": {
        "id": "u9AiAf_7E2lh"
      },
      "execution_count": 2,
      "outputs": []
    },
    {
      "cell_type": "code",
      "source": [
        "auth=tw.OAuthHandler(twKey, twKeysecret)\n",
        "auth.set_access_token(twtoken, twtokensecret)"
      ],
      "metadata": {
        "id": "1438XNUdE647"
      },
      "execution_count": 3,
      "outputs": []
    },
    {
      "cell_type": "code",
      "source": [
        "api=tw.API(auth, wait_on_rate_limit=True)"
      ],
      "metadata": {
        "id": "uOZDWL4sE87o"
      },
      "execution_count": 4,
      "outputs": []
    },
    {
      "cell_type": "markdown",
      "source": [
        "<h3 align='right'>Collecting the Data</h3>\n",
        "<h4 align='right'>27.jan.2022</h4>\n",
        "<hr color='cian'>"
      ],
      "metadata": {
        "id": "X2Gbon9mFhxw"
      }
    },
    {
      "cell_type": "markdown",
      "source": [
        "<h5 align='right'>English</h5>"
      ],
      "metadata": {
        "id": "uVXzhv_6LWDM"
      }
    },
    {
      "cell_type": "code",
      "source": [
        "diciEN = {}\n",
        "diciEN = diciEN.fromkeys(['created_at',\n",
        "                      'text',\n",
        "                      'user',\n",
        "                      'source',\n",
        "                      'favorite_count',\n",
        "                      'retweet_count'])"
      ],
      "metadata": {
        "id": "33xHq3N_E-b_"
      },
      "execution_count": 5,
      "outputs": []
    },
    {
      "cell_type": "code",
      "source": [
        "word = \"COVID\" +'-filter:retweets'\n",
        "cursor = tw.Cursor(api.search, q=word, lang='en', count=100).items(300)"
      ],
      "metadata": {
        "id": "_JtzdulTFvq5"
      },
      "execution_count": 8,
      "outputs": []
    },
    {
      "cell_type": "code",
      "source": [
        "for i in cursor:\n",
        "    for key in diciEN.keys():\n",
        "        try:\n",
        "            value=i._json[key]\n",
        "            diciEN[key].append(value)\n",
        "        except KeyError:\n",
        "            value=''\n",
        "            if(diciEN[key] is None):\n",
        "                diciEN[key]=value\n",
        "            else:\n",
        "                diciEN[key].append(value)\n",
        "        except:\n",
        "            diciEN[key]=[value]"
      ],
      "metadata": {
        "id": "UrUU3DTOGJL1"
      },
      "execution_count": 9,
      "outputs": []
    },
    {
      "cell_type": "code",
      "source": [
        "with open('diciEN_COVID_jan2022.json', 'w') as fp:\n",
        "  json.dump(diciEN, fp, indent=4)"
      ],
      "metadata": {
        "id": "lhqvYx6IKZ7-"
      },
      "execution_count": 13,
      "outputs": []
    },
    {
      "cell_type": "markdown",
      "source": [
        "<h5 align='right'>Deutsch</h5>"
      ],
      "metadata": {
        "id": "FfJ1Av1wLfBX"
      }
    },
    {
      "cell_type": "code",
      "source": [
        "diciDE = {}\n",
        "diciDE = diciDE.fromkeys(['created_at',\n",
        "                      'text',\n",
        "                      'user',\n",
        "                      'source',\n",
        "                      'favorite_count',\n",
        "                      'retweet_count'])"
      ],
      "metadata": {
        "id": "rCZlAKVNLjMG"
      },
      "execution_count": 15,
      "outputs": []
    },
    {
      "cell_type": "code",
      "source": [
        "word = \"COVID\" +'-filter:retweets'\n",
        "cursorDE = tw.Cursor(api.search, q=word, lang='de', count=100).items(300)"
      ],
      "metadata": {
        "id": "WePq9Xe8Lp7X"
      },
      "execution_count": 23,
      "outputs": []
    },
    {
      "cell_type": "code",
      "source": [
        "for i in cursorDE:\n",
        "    for key in diciDE.keys():\n",
        "        try:\n",
        "            value=i._json[key]\n",
        "            diciDE[key].append(value)\n",
        "        except KeyError:\n",
        "            value=''\n",
        "            if(diciDE[key] is None):\n",
        "                diciDE[key]=value\n",
        "            else:\n",
        "                diciDE[key].append(value)\n",
        "        except:\n",
        "            diciDE[key]=[value]"
      ],
      "metadata": {
        "id": "a5_WG3RIL8fL"
      },
      "execution_count": 24,
      "outputs": []
    },
    {
      "cell_type": "code",
      "source": [
        "with open('diciDE_COVID_jan2022.json', 'w') as fp:\n",
        "  json.dump(diciDE, fp, indent=4)"
      ],
      "metadata": {
        "id": "hUHbkmr3MoCh"
      },
      "execution_count": 26,
      "outputs": []
    },
    {
      "cell_type": "code",
      "source": [
        "#testing\n",
        "COVID_de= pd.DataFrame.from_dict(diciDE)\n",
        "COVID_de.head()"
      ],
      "metadata": {
        "colab": {
          "base_uri": "https://localhost:8080/",
          "height": 478
        },
        "id": "pGfQK26GKLoh",
        "outputId": "f22d62f6-7ccf-4ba2-f0c4-db8d46448fc6"
      },
      "execution_count": 25,
      "outputs": [
        {
          "output_type": "execute_result",
          "data": {
            "text/html": [
              "\n",
              "  <div id=\"df-f83def70-c44f-4461-bdb1-307b3d6e8b42\">\n",
              "    <div class=\"colab-df-container\">\n",
              "      <div>\n",
              "<style scoped>\n",
              "    .dataframe tbody tr th:only-of-type {\n",
              "        vertical-align: middle;\n",
              "    }\n",
              "\n",
              "    .dataframe tbody tr th {\n",
              "        vertical-align: top;\n",
              "    }\n",
              "\n",
              "    .dataframe thead th {\n",
              "        text-align: right;\n",
              "    }\n",
              "</style>\n",
              "<table border=\"1\" class=\"dataframe\">\n",
              "  <thead>\n",
              "    <tr style=\"text-align: right;\">\n",
              "      <th></th>\n",
              "      <th>created_at</th>\n",
              "      <th>text</th>\n",
              "      <th>user</th>\n",
              "      <th>source</th>\n",
              "      <th>favorite_count</th>\n",
              "      <th>retweet_count</th>\n",
              "    </tr>\n",
              "  </thead>\n",
              "  <tbody>\n",
              "    <tr>\n",
              "      <th>0</th>\n",
              "      <td>Thu Jan 27 11:00:45 +0000 2022</td>\n",
              "      <td>BTW: Joe Rogan ist übrigens nicht nur wegen CO...</td>\n",
              "      <td>{'id': 83573370, 'id_str': '83573370', 'name':...</td>\n",
              "      <td>&lt;a href=\"https://mobile.twitter.com\" rel=\"nofo...</td>\n",
              "      <td>0</td>\n",
              "      <td>0</td>\n",
              "    </tr>\n",
              "    <tr>\n",
              "      <th>1</th>\n",
              "      <td>Thu Jan 27 11:00:35 +0000 2022</td>\n",
              "      <td>Welttag der Bildung: Covid-19-Pandemie verschä...</td>\n",
              "      <td>{'id': 52403524, 'id_str': '52403524', 'name':...</td>\n",
              "      <td>&lt;a href=\"http://www.jugendhilfeportal.de\" rel=...</td>\n",
              "      <td>0</td>\n",
              "      <td>0</td>\n",
              "    </tr>\n",
              "    <tr>\n",
              "      <th>2</th>\n",
              "      <td>Thu Jan 27 11:00:27 +0000 2022</td>\n",
              "      <td>Experten, darunter \\nRobert Garry &amp;amp; Mike F...</td>\n",
              "      <td>{'id': 1438185116136878083, 'id_str': '1438185...</td>\n",
              "      <td>&lt;a href=\"https://mobile.twitter.com\" rel=\"nofo...</td>\n",
              "      <td>0</td>\n",
              "      <td>0</td>\n",
              "    </tr>\n",
              "    <tr>\n",
              "      <th>3</th>\n",
              "      <td>Thu Jan 27 11:00:17 +0000 2022</td>\n",
              "      <td>@u1829387190039 @SWagenknecht verpflichtend we...</td>\n",
              "      <td>{'id': 1338961332125757440, 'id_str': '1338961...</td>\n",
              "      <td>&lt;a href=\"https://mobile.twitter.com\" rel=\"nofo...</td>\n",
              "      <td>0</td>\n",
              "      <td>0</td>\n",
              "    </tr>\n",
              "    <tr>\n",
              "      <th>4</th>\n",
              "      <td>Thu Jan 27 11:00:16 +0000 2022</td>\n",
              "      <td>@DBOnTweets @Ricarda_Lang Mit falschen Zahlen ...</td>\n",
              "      <td>{'id': 92365834, 'id_str': '92365834', 'name':...</td>\n",
              "      <td>&lt;a href=\"http://twitter.com/download/iphone\" r...</td>\n",
              "      <td>0</td>\n",
              "      <td>0</td>\n",
              "    </tr>\n",
              "  </tbody>\n",
              "</table>\n",
              "</div>\n",
              "      <button class=\"colab-df-convert\" onclick=\"convertToInteractive('df-f83def70-c44f-4461-bdb1-307b3d6e8b42')\"\n",
              "              title=\"Convert this dataframe to an interactive table.\"\n",
              "              style=\"display:none;\">\n",
              "        \n",
              "  <svg xmlns=\"http://www.w3.org/2000/svg\" height=\"24px\"viewBox=\"0 0 24 24\"\n",
              "       width=\"24px\">\n",
              "    <path d=\"M0 0h24v24H0V0z\" fill=\"none\"/>\n",
              "    <path d=\"M18.56 5.44l.94 2.06.94-2.06 2.06-.94-2.06-.94-.94-2.06-.94 2.06-2.06.94zm-11 1L8.5 8.5l.94-2.06 2.06-.94-2.06-.94L8.5 2.5l-.94 2.06-2.06.94zm10 10l.94 2.06.94-2.06 2.06-.94-2.06-.94-.94-2.06-.94 2.06-2.06.94z\"/><path d=\"M17.41 7.96l-1.37-1.37c-.4-.4-.92-.59-1.43-.59-.52 0-1.04.2-1.43.59L10.3 9.45l-7.72 7.72c-.78.78-.78 2.05 0 2.83L4 21.41c.39.39.9.59 1.41.59.51 0 1.02-.2 1.41-.59l7.78-7.78 2.81-2.81c.8-.78.8-2.07 0-2.86zM5.41 20L4 18.59l7.72-7.72 1.47 1.35L5.41 20z\"/>\n",
              "  </svg>\n",
              "      </button>\n",
              "      \n",
              "  <style>\n",
              "    .colab-df-container {\n",
              "      display:flex;\n",
              "      flex-wrap:wrap;\n",
              "      gap: 12px;\n",
              "    }\n",
              "\n",
              "    .colab-df-convert {\n",
              "      background-color: #E8F0FE;\n",
              "      border: none;\n",
              "      border-radius: 50%;\n",
              "      cursor: pointer;\n",
              "      display: none;\n",
              "      fill: #1967D2;\n",
              "      height: 32px;\n",
              "      padding: 0 0 0 0;\n",
              "      width: 32px;\n",
              "    }\n",
              "\n",
              "    .colab-df-convert:hover {\n",
              "      background-color: #E2EBFA;\n",
              "      box-shadow: 0px 1px 2px rgba(60, 64, 67, 0.3), 0px 1px 3px 1px rgba(60, 64, 67, 0.15);\n",
              "      fill: #174EA6;\n",
              "    }\n",
              "\n",
              "    [theme=dark] .colab-df-convert {\n",
              "      background-color: #3B4455;\n",
              "      fill: #D2E3FC;\n",
              "    }\n",
              "\n",
              "    [theme=dark] .colab-df-convert:hover {\n",
              "      background-color: #434B5C;\n",
              "      box-shadow: 0px 1px 3px 1px rgba(0, 0, 0, 0.15);\n",
              "      filter: drop-shadow(0px 1px 2px rgba(0, 0, 0, 0.3));\n",
              "      fill: #FFFFFF;\n",
              "    }\n",
              "  </style>\n",
              "\n",
              "      <script>\n",
              "        const buttonEl =\n",
              "          document.querySelector('#df-f83def70-c44f-4461-bdb1-307b3d6e8b42 button.colab-df-convert');\n",
              "        buttonEl.style.display =\n",
              "          google.colab.kernel.accessAllowed ? 'block' : 'none';\n",
              "\n",
              "        async function convertToInteractive(key) {\n",
              "          const element = document.querySelector('#df-f83def70-c44f-4461-bdb1-307b3d6e8b42');\n",
              "          const dataTable =\n",
              "            await google.colab.kernel.invokeFunction('convertToInteractive',\n",
              "                                                     [key], {});\n",
              "          if (!dataTable) return;\n",
              "\n",
              "          const docLinkHtml = 'Like what you see? Visit the ' +\n",
              "            '<a target=\"_blank\" href=https://colab.research.google.com/notebooks/data_table.ipynb>data table notebook</a>'\n",
              "            + ' to learn more about interactive tables.';\n",
              "          element.innerHTML = '';\n",
              "          dataTable['output_type'] = 'display_data';\n",
              "          await google.colab.output.renderOutput(dataTable, element);\n",
              "          const docLink = document.createElement('div');\n",
              "          docLink.innerHTML = docLinkHtml;\n",
              "          element.appendChild(docLink);\n",
              "        }\n",
              "      </script>\n",
              "    </div>\n",
              "  </div>\n",
              "  "
            ],
            "text/plain": [
              "                       created_at  ... retweet_count\n",
              "0  Thu Jan 27 11:00:45 +0000 2022  ...             0\n",
              "1  Thu Jan 27 11:00:35 +0000 2022  ...             0\n",
              "2  Thu Jan 27 11:00:27 +0000 2022  ...             0\n",
              "3  Thu Jan 27 11:00:17 +0000 2022  ...             0\n",
              "4  Thu Jan 27 11:00:16 +0000 2022  ...             0\n",
              "\n",
              "[5 rows x 6 columns]"
            ]
          },
          "metadata": {},
          "execution_count": 25
        }
      ]
    },
    {
      "cell_type": "code",
      "source": [
        "COVID_en = pd.DataFrame.from_dict(diciEN)\n",
        "COVID_en.head()"
      ],
      "metadata": {
        "colab": {
          "base_uri": "https://localhost:8080/",
          "height": 444
        },
        "id": "D0Iq3bdcKSI4",
        "outputId": "69d2969d-a4f4-4afa-87a1-e9a9301271c9"
      },
      "execution_count": 28,
      "outputs": [
        {
          "output_type": "execute_result",
          "data": {
            "text/html": [
              "\n",
              "  <div id=\"df-cc365121-6285-4663-a063-58e77b8efcb0\">\n",
              "    <div class=\"colab-df-container\">\n",
              "      <div>\n",
              "<style scoped>\n",
              "    .dataframe tbody tr th:only-of-type {\n",
              "        vertical-align: middle;\n",
              "    }\n",
              "\n",
              "    .dataframe tbody tr th {\n",
              "        vertical-align: top;\n",
              "    }\n",
              "\n",
              "    .dataframe thead th {\n",
              "        text-align: right;\n",
              "    }\n",
              "</style>\n",
              "<table border=\"1\" class=\"dataframe\">\n",
              "  <thead>\n",
              "    <tr style=\"text-align: right;\">\n",
              "      <th></th>\n",
              "      <th>created_at</th>\n",
              "      <th>text</th>\n",
              "      <th>user</th>\n",
              "      <th>source</th>\n",
              "      <th>favorite_count</th>\n",
              "      <th>retweet_count</th>\n",
              "    </tr>\n",
              "  </thead>\n",
              "  <tbody>\n",
              "    <tr>\n",
              "      <th>0</th>\n",
              "      <td>Thu Jan 27 10:49:20 +0000 2022</td>\n",
              "      <td>Today restrictions are taken away and it’s rea...</td>\n",
              "      <td>{'id': 1423410674038890502, 'id_str': '1423410...</td>\n",
              "      <td>&lt;a href=\"http://twitter.com/download/iphone\" r...</td>\n",
              "      <td>0</td>\n",
              "      <td>0</td>\n",
              "    </tr>\n",
              "    <tr>\n",
              "      <th>1</th>\n",
              "      <td>Thu Jan 27 10:49:19 +0000 2022</td>\n",
              "      <td>Denmark to lift Covid curbs in return to 'life...</td>\n",
              "      <td>{'id': 19310250, 'id_str': '19310250', 'name':...</td>\n",
              "      <td>&lt;a href=\"https://mobile.twitter.com\" rel=\"nofo...</td>\n",
              "      <td>0</td>\n",
              "      <td>0</td>\n",
              "    </tr>\n",
              "    <tr>\n",
              "      <th>2</th>\n",
              "      <td>Thu Jan 27 10:49:18 +0000 2022</td>\n",
              "      <td>Letter from the Antipodes: AC40 first look.. S...</td>\n",
              "      <td>{'id': 58906640, 'id_str': '58906640', 'name':...</td>\n",
              "      <td>&lt;a href=\"https://www.sail-world.com/\" rel=\"nof...</td>\n",
              "      <td>0</td>\n",
              "      <td>0</td>\n",
              "    </tr>\n",
              "    <tr>\n",
              "      <th>3</th>\n",
              "      <td>Thu Jan 27 10:49:18 +0000 2022</td>\n",
              "      <td>@fortyfive09ro Covid + 🙌</td>\n",
              "      <td>{'id': 1361595853492822020, 'id_str': '1361595...</td>\n",
              "      <td>&lt;a href=\"http://twitter.com/download/android\" ...</td>\n",
              "      <td>0</td>\n",
              "      <td>0</td>\n",
              "    </tr>\n",
              "    <tr>\n",
              "      <th>4</th>\n",
              "      <td>Thu Jan 27 10:49:17 +0000 2022</td>\n",
              "      <td>@Craig_A_Spencer Why won‘t more doctors do ear...</td>\n",
              "      <td>{'id': 1206180536, 'id_str': '1206180536', 'na...</td>\n",
              "      <td>&lt;a href=\"http://twitter.com/download/iphone\" r...</td>\n",
              "      <td>0</td>\n",
              "      <td>0</td>\n",
              "    </tr>\n",
              "  </tbody>\n",
              "</table>\n",
              "</div>\n",
              "      <button class=\"colab-df-convert\" onclick=\"convertToInteractive('df-cc365121-6285-4663-a063-58e77b8efcb0')\"\n",
              "              title=\"Convert this dataframe to an interactive table.\"\n",
              "              style=\"display:none;\">\n",
              "        \n",
              "  <svg xmlns=\"http://www.w3.org/2000/svg\" height=\"24px\"viewBox=\"0 0 24 24\"\n",
              "       width=\"24px\">\n",
              "    <path d=\"M0 0h24v24H0V0z\" fill=\"none\"/>\n",
              "    <path d=\"M18.56 5.44l.94 2.06.94-2.06 2.06-.94-2.06-.94-.94-2.06-.94 2.06-2.06.94zm-11 1L8.5 8.5l.94-2.06 2.06-.94-2.06-.94L8.5 2.5l-.94 2.06-2.06.94zm10 10l.94 2.06.94-2.06 2.06-.94-2.06-.94-.94-2.06-.94 2.06-2.06.94z\"/><path d=\"M17.41 7.96l-1.37-1.37c-.4-.4-.92-.59-1.43-.59-.52 0-1.04.2-1.43.59L10.3 9.45l-7.72 7.72c-.78.78-.78 2.05 0 2.83L4 21.41c.39.39.9.59 1.41.59.51 0 1.02-.2 1.41-.59l7.78-7.78 2.81-2.81c.8-.78.8-2.07 0-2.86zM5.41 20L4 18.59l7.72-7.72 1.47 1.35L5.41 20z\"/>\n",
              "  </svg>\n",
              "      </button>\n",
              "      \n",
              "  <style>\n",
              "    .colab-df-container {\n",
              "      display:flex;\n",
              "      flex-wrap:wrap;\n",
              "      gap: 12px;\n",
              "    }\n",
              "\n",
              "    .colab-df-convert {\n",
              "      background-color: #E8F0FE;\n",
              "      border: none;\n",
              "      border-radius: 50%;\n",
              "      cursor: pointer;\n",
              "      display: none;\n",
              "      fill: #1967D2;\n",
              "      height: 32px;\n",
              "      padding: 0 0 0 0;\n",
              "      width: 32px;\n",
              "    }\n",
              "\n",
              "    .colab-df-convert:hover {\n",
              "      background-color: #E2EBFA;\n",
              "      box-shadow: 0px 1px 2px rgba(60, 64, 67, 0.3), 0px 1px 3px 1px rgba(60, 64, 67, 0.15);\n",
              "      fill: #174EA6;\n",
              "    }\n",
              "\n",
              "    [theme=dark] .colab-df-convert {\n",
              "      background-color: #3B4455;\n",
              "      fill: #D2E3FC;\n",
              "    }\n",
              "\n",
              "    [theme=dark] .colab-df-convert:hover {\n",
              "      background-color: #434B5C;\n",
              "      box-shadow: 0px 1px 3px 1px rgba(0, 0, 0, 0.15);\n",
              "      filter: drop-shadow(0px 1px 2px rgba(0, 0, 0, 0.3));\n",
              "      fill: #FFFFFF;\n",
              "    }\n",
              "  </style>\n",
              "\n",
              "      <script>\n",
              "        const buttonEl =\n",
              "          document.querySelector('#df-cc365121-6285-4663-a063-58e77b8efcb0 button.colab-df-convert');\n",
              "        buttonEl.style.display =\n",
              "          google.colab.kernel.accessAllowed ? 'block' : 'none';\n",
              "\n",
              "        async function convertToInteractive(key) {\n",
              "          const element = document.querySelector('#df-cc365121-6285-4663-a063-58e77b8efcb0');\n",
              "          const dataTable =\n",
              "            await google.colab.kernel.invokeFunction('convertToInteractive',\n",
              "                                                     [key], {});\n",
              "          if (!dataTable) return;\n",
              "\n",
              "          const docLinkHtml = 'Like what you see? Visit the ' +\n",
              "            '<a target=\"_blank\" href=https://colab.research.google.com/notebooks/data_table.ipynb>data table notebook</a>'\n",
              "            + ' to learn more about interactive tables.';\n",
              "          element.innerHTML = '';\n",
              "          dataTable['output_type'] = 'display_data';\n",
              "          await google.colab.output.renderOutput(dataTable, element);\n",
              "          const docLink = document.createElement('div');\n",
              "          docLink.innerHTML = docLinkHtml;\n",
              "          element.appendChild(docLink);\n",
              "        }\n",
              "      </script>\n",
              "    </div>\n",
              "  </div>\n",
              "  "
            ],
            "text/plain": [
              "                       created_at  ... retweet_count\n",
              "0  Thu Jan 27 10:49:20 +0000 2022  ...             0\n",
              "1  Thu Jan 27 10:49:19 +0000 2022  ...             0\n",
              "2  Thu Jan 27 10:49:18 +0000 2022  ...             0\n",
              "3  Thu Jan 27 10:49:18 +0000 2022  ...             0\n",
              "4  Thu Jan 27 10:49:17 +0000 2022  ...             0\n",
              "\n",
              "[5 rows x 6 columns]"
            ]
          },
          "metadata": {},
          "execution_count": 28
        }
      ]
    },
    {
      "cell_type": "code",
      "source": [
        ""
      ],
      "metadata": {
        "id": "ySma723dKVWV"
      },
      "execution_count": null,
      "outputs": []
    }
  ]
}